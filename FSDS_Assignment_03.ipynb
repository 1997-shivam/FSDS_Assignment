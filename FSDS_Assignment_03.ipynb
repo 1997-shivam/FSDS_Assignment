{
 "cells": [
  {
   "cell_type": "code",
   "execution_count": null,
   "id": "60f3fe40",
   "metadata": {},
   "outputs": [],
   "source": [
    "Q1) Why are functions advantageous to have in your programs?\n",
    "Ans:- The main advantage of funtion is to code reusability. In any program we create function so that we can reuse the set of code. it makes the program shorter , easier to read, and easier to update "
   ]
  },
  {
   "cell_type": "code",
   "execution_count": null,
   "id": "b233478f",
   "metadata": {},
   "outputs": [],
   "source": [
    "Q2) When does the code in a function run: when it's specified or when it's called?\n",
    "Ans:- the code in function executes when it is called. and it does not execute when it is specified "
   ]
  },
  {
   "cell_type": "code",
   "execution_count": null,
   "id": "c51c5c3f",
   "metadata": {},
   "outputs": [],
   "source": [
    "Q3) What statement creates a function?\n",
    "Ans:- \"def\" keyword is used to define the function in program.\n",
    "Syntax :-def function_name(parameters): \n",
    "            -----function body-----\n",
    "            return value"
   ]
  },
  {
   "cell_type": "code",
   "execution_count": null,
   "id": "9bc4a345",
   "metadata": {},
   "outputs": [],
   "source": [
    "Q4) What is the difference between a function and a function call?\n",
    "Ans:- A Function is a block of code that does a particular operation and returns a result and Function call is using or calling the function to perform the perticular task"
   ]
  },
  {
   "cell_type": "code",
   "execution_count": null,
   "id": "22d1e27b",
   "metadata": {},
   "outputs": [],
   "source": [
    "Q5) How many global scopes are there in a Python program? How many local scopes?\n",
    "Ans:- There is one global scope, and a local scope is created whenever a function is called."
   ]
  },
  {
   "cell_type": "code",
   "execution_count": null,
   "id": "cb309813",
   "metadata": {},
   "outputs": [],
   "source": [
    "Q6) What happens to variables in a local scope when the function call returns?\n",
    "Ans:- When a function returns, the local scope is destroyed, and all the variables in it are forgotten."
   ]
  },
  {
   "cell_type": "code",
   "execution_count": null,
   "id": "f9397d3f",
   "metadata": {},
   "outputs": [],
   "source": [
    "Q7) What is the concept of a return value? Is it possible to have a return value in an expression? \n",
    "Ans:-A return value is the value that a function call evaluates to. Like any value, a return value can be used as part of an expression."
   ]
  },
  {
   "cell_type": "code",
   "execution_count": null,
   "id": "536431c2",
   "metadata": {},
   "outputs": [],
   "source": [
    "Q8) If a function does not have a return statement, what is the return value of a call to that function?\n",
    "Ans:-If there is no return statement for a function, its return value is None"
   ]
  },
  {
   "cell_type": "code",
   "execution_count": null,
   "id": "e490f4d3",
   "metadata": {},
   "outputs": [],
   "source": [
    "Q9) How do you make a function variable refer to the global variable?\n",
    "Ans:- A global statement will force a variable in a function to refer to the global variable. If you want to refer to a global variable in a function, you can use the global keyword to declare which variables are global."
   ]
  },
  {
   "cell_type": "code",
   "execution_count": null,
   "id": "a42f9560",
   "metadata": {},
   "outputs": [],
   "source": [
    "Q 10) What is the data type of None?\n",
    "Ans:- The data type of None is NoneType."
   ]
  },
  {
   "cell_type": "code",
   "execution_count": null,
   "id": "077b5742",
   "metadata": {},
   "outputs": [],
   "source": [
    "Q 11) What does the sentence import areallyourpetsnamederic do?\n",
    "Ans:- That import statement imports a module named areallyourpetsnamederic"
   ]
  },
  {
   "cell_type": "code",
   "execution_count": null,
   "id": "a006a8cb",
   "metadata": {},
   "outputs": [],
   "source": [
    "Q12) If you had a bacon() feature in a spam module, what would you call it after importing spam?\n",
    "Ans:- This function can be called with spam.bacon()."
   ]
  },
  {
   "cell_type": "code",
   "execution_count": null,
   "id": "5ca6ed5a",
   "metadata": {},
   "outputs": [],
   "source": [
    "Q13) What can you do to save a programme from crashing if it encounters an error?\n",
    "Ans:- Place the line of code that might cause an error in a try clause and use except block to handle the error."
   ]
  },
  {
   "cell_type": "code",
   "execution_count": null,
   "id": "92183ab9",
   "metadata": {},
   "outputs": [],
   "source": [
    "Q14) What is the purpose of the try clause?\n",
    "Ans:- The code that could potentially cause an error goes in the try clause. The code that executes if an error happens goes in the except clause"
   ]
  }
 ],
 "metadata": {
  "kernelspec": {
   "display_name": "Python 3 (ipykernel)",
   "language": "python",
   "name": "python3"
  },
  "language_info": {
   "codemirror_mode": {
    "name": "ipython",
    "version": 3
   },
   "file_extension": ".py",
   "mimetype": "text/x-python",
   "name": "python",
   "nbconvert_exporter": "python",
   "pygments_lexer": "ipython3",
   "version": "3.9.12"
  }
 },
 "nbformat": 4,
 "nbformat_minor": 5
}
